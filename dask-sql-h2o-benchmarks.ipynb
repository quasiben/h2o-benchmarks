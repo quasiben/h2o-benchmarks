{
 "cells": [
  {
   "cell_type": "code",
   "execution_count": 1,
   "id": "86264024-2b78-4ed3-814d-f9b0d8725b4a",
   "metadata": {},
   "outputs": [],
   "source": [
    "from dask_sql import Context\n",
    "from dask.distributed import Client\n",
    "import dask.dataframe as dd\n",
    "import pandas as pd"
   ]
  },
  {
   "cell_type": "code",
   "execution_count": 2,
   "id": "c37e3f3f-75d1-4fe9-afac-565d479e6046",
   "metadata": {},
   "outputs": [
    {
     "name": "stderr",
     "output_type": "stream",
     "text": [
      "/datasets/bzaitlen/miniconda3/envs/dask-sql/lib/python3.8/site-packages/distributed/node.py:180: UserWarning: Port 8787 is already in use.\n",
      "Perhaps you already have a cluster running?\n",
      "Hosting the HTTP server on port 36457 instead\n",
      "  warnings.warn(\n"
     ]
    }
   ],
   "source": [
    "client = Client()"
   ]
  },
  {
   "cell_type": "code",
   "execution_count": 3,
   "id": "4e2a85f4-01f1-4442-adcb-a611d1aad0da",
   "metadata": {},
   "outputs": [],
   "source": [
    "c = Context()\n",
    "ddf = dd.read_csv(\"scripts/output_dir/N_1e8_K_1e2_single.csv\")\n",
    "c.create_table(\"h2oData\", ddf)"
   ]
  },
  {
   "cell_type": "code",
   "execution_count": 4,
   "id": "a1d5eb5c-0ab6-443c-8dc7-51fc9b17def3",
   "metadata": {},
   "outputs": [],
   "source": [
    "def check_query(q, sql, sort_by=''):\n",
    "    sql = sql.sort_values(sort_by)\n",
    "    sql = sql.reset_index()\n",
    "    sql = sql.drop('index', axis=1, errors='ignore')\n",
    "    q = q.sort_values(sort_by)\n",
    "    q = q.reset_index()\n",
    "    q = q.drop('index', axis=1, errors='ignore')\n",
    "\n",
    "    pd.testing.assert_frame_equal(q, sql)"
   ]
  },
  {
   "cell_type": "code",
   "execution_count": 5,
   "id": "703fdded-819d-48fd-aca8-f8f77147a268",
   "metadata": {},
   "outputs": [
    {
     "name": "stdout",
     "output_type": "stream",
     "text": [
      "CPU times: user 913 ms, sys: 375 ms, total: 1.29 s\n",
      "Wall time: 8.18 s\n"
     ]
    }
   ],
   "source": [
    "%%time\n",
    "#q1\n",
    "ddfq1 = ddf[[\"id1\", \"v1\"]]\n",
    "q1 = ddfq1.groupby(\"id1\", dropna=False, observed=True).agg({\"v1\": \"sum\"}).compute()"
   ]
  },
  {
   "cell_type": "code",
   "execution_count": 6,
   "id": "e2e654f5-6f0b-4902-bceb-e452701cf366",
   "metadata": {},
   "outputs": [
    {
     "name": "stdout",
     "output_type": "stream",
     "text": [
      "CPU times: user 484 ms, sys: 179 ms, total: 663 ms\n",
      "Wall time: 3.78 s\n"
     ]
    }
   ],
   "source": [
    "%%time \n",
    "sql_q1 = c.sql(\"SELECT id1, sum(v1) AS v1 FROM h2oData GROUP BY id1\").compute()"
   ]
  },
  {
   "cell_type": "code",
   "execution_count": 7,
   "id": "445037e4-42d4-49f2-8111-9411f34b10fc",
   "metadata": {},
   "outputs": [],
   "source": [
    "check_query(q1, sql_q1, sort_by='id1')"
   ]
  },
  {
   "cell_type": "code",
   "execution_count": 8,
   "id": "47ff08fa-a08b-4611-bc69-51cd46b90f1f",
   "metadata": {},
   "outputs": [
    {
     "name": "stdout",
     "output_type": "stream",
     "text": [
      "CPU times: user 613 ms, sys: 204 ms, total: 817 ms\n",
      "Wall time: 5.04 s\n"
     ]
    }
   ],
   "source": [
    "%%time\n",
    "ddf_q2 = ddf[[\"id1\", \"id2\", \"v1\"]]\n",
    "q2 = (ddf_q2.groupby([\"id1\", \"id2\"], dropna=False, observed=True)\n",
    "        .agg({\"v1\": \"sum\"})\n",
    "        .compute())"
   ]
  },
  {
   "cell_type": "code",
   "execution_count": 9,
   "id": "9dfb8287-eac8-43ae-80f9-a9c4df7f2e5e",
   "metadata": {},
   "outputs": [
    {
     "name": "stdout",
     "output_type": "stream",
     "text": [
      "CPU times: user 643 ms, sys: 208 ms, total: 851 ms\n",
      "Wall time: 5.6 s\n"
     ]
    }
   ],
   "source": [
    "%%time \n",
    "sql_q2 = c.sql(\"SELECT id1, id2, sum(v1) AS v1 FROM h2oData GROUP BY id1, id2\").compute()"
   ]
  },
  {
   "cell_type": "code",
   "execution_count": 10,
   "id": "b9daad93-94ba-4b1a-8796-0d8161c0369d",
   "metadata": {},
   "outputs": [],
   "source": [
    "check_query(q2, sql_q2, sort_by=['id1', 'id2'])"
   ]
  },
  {
   "cell_type": "code",
   "execution_count": 11,
   "id": "7c1a4846-3e4c-4a66-8871-6427dc689bc9",
   "metadata": {},
   "outputs": [
    {
     "name": "stdout",
     "output_type": "stream",
     "text": [
      "CPU times: user 3.02 s, sys: 1.39 s, total: 4.41 s\n",
      "Wall time: 38.5 s\n"
     ]
    }
   ],
   "source": [
    "%%time \n",
    "ddf_q3 = ddf[[\"id3\", \"v1\", \"v3\"]]\n",
    "q3 = (\n",
    "        ddf_q3.groupby(\"id3\", dropna=False, observed=True)\n",
    "        .agg({\"v1\": \"sum\", \"v3\": \"mean\"})\n",
    "        .compute()\n",
    "    )"
   ]
  },
  {
   "cell_type": "code",
   "execution_count": 13,
   "id": "50885d3b-9ff2-4e27-a7b0-aecf20ca9d9a",
   "metadata": {},
   "outputs": [
    {
     "name": "stdout",
     "output_type": "stream",
     "text": [
      "CPU times: user 3.81 s, sys: 1.54 s, total: 5.35 s\n",
      "Wall time: 48.5 s\n"
     ]
    }
   ],
   "source": [
    "%%time \n",
    "sql_q3 = c.sql(\"\"\"SELECT id3, sum(v1) AS v1, avg(v3) AS v3 \n",
    "                FROM h2oData \n",
    "                GROUP BY \n",
    "                id3\"\"\").compute()"
   ]
  },
  {
   "cell_type": "code",
   "execution_count": 14,
   "id": "ef0cce6d-aa7c-4096-8557-ef775057ea81",
   "metadata": {},
   "outputs": [],
   "source": [
    "check_query(q3, sql_q3, sort_by=['v1', 'v3'])"
   ]
  },
  {
   "cell_type": "code",
   "execution_count": 15,
   "id": "9f4e88a0-1152-475b-b382-1ecf3bf33c0c",
   "metadata": {},
   "outputs": [
    {
     "name": "stdout",
     "output_type": "stream",
     "text": [
      "CPU times: user 735 ms, sys: 0 ns, total: 735 ms\n",
      "Wall time: 2.54 s\n"
     ]
    }
   ],
   "source": [
    "%%time\n",
    "ddf_q4 = ddf[[\"id4\", \"v1\", \"v2\", \"v3\"]]\n",
    "q4 = (\n",
    "        ddf_q4.groupby(\"id4\", dropna=False, observed=True)\n",
    "        .agg({\"v1\": \"mean\", \"v2\": \"mean\", \"v3\": \"mean\"})\n",
    "        .compute()\n",
    "    )"
   ]
  },
  {
   "cell_type": "code",
   "execution_count": 16,
   "id": "19053222-1b7b-43d3-b629-c2282bb1ef0a",
   "metadata": {},
   "outputs": [
    {
     "name": "stdout",
     "output_type": "stream",
     "text": [
      "CPU times: user 676 ms, sys: 0 ns, total: 676 ms\n",
      "Wall time: 2.5 s\n"
     ]
    }
   ],
   "source": [
    "%%time \n",
    "sql_q4 = c.sql(\"\"\"SELECT id4, avg(v1) AS v1, avg(v2) AS v2, avg(v3) AS v3 \n",
    "                  FROM h2oData \n",
    "                  GROUP BY \n",
    "                  id4\"\"\").compute()"
   ]
  },
  {
   "cell_type": "code",
   "execution_count": 17,
   "id": "4dda09dc-6e3c-45ec-aad6-156e16732806",
   "metadata": {},
   "outputs": [],
   "source": [
    "check_query(q4, sql_q4, sort_by=['v1', 'v2', 'v3'])"
   ]
  },
  {
   "cell_type": "code",
   "execution_count": 18,
   "id": "ada33c2a-5df8-43ae-8992-bd7b733034e8",
   "metadata": {},
   "outputs": [
    {
     "name": "stdout",
     "output_type": "stream",
     "text": [
      "CPU times: user 1.62 s, sys: 370 ms, total: 1.99 s\n",
      "Wall time: 7.67 s\n"
     ]
    }
   ],
   "source": [
    "%%time\n",
    "ddf_q5 = ddf[[\"id6\", \"v1\", \"v2\", \"v3\"]]\n",
    "q5 = (\n",
    "        ddf_q5.groupby(\"id6\", dropna=False, observed=True)\n",
    "        .agg({\"v1\": \"sum\", \"v2\": \"sum\", \"v3\": \"sum\"})\n",
    "        .compute()\n",
    "    )"
   ]
  },
  {
   "cell_type": "code",
   "execution_count": 19,
   "id": "bbd0a013-98e8-45b9-bb10-3bacc3ad71a2",
   "metadata": {},
   "outputs": [
    {
     "name": "stdout",
     "output_type": "stream",
     "text": [
      "CPU times: user 1.65 s, sys: 534 ms, total: 2.18 s\n",
      "Wall time: 8.88 s\n"
     ]
    }
   ],
   "source": [
    "%%time \n",
    "sql_q5 = c.sql(\"\"\"SELECT id6, sum(v1) AS v1, sum(v2) AS v2, sum(v3) AS v3 \n",
    "                  FROM h2oData \n",
    "                  GROUP BY \n",
    "                  id6\"\"\").compute()"
   ]
  },
  {
   "cell_type": "code",
   "execution_count": 20,
   "id": "5807170c-5015-405f-ac22-9fcd9a8faf12",
   "metadata": {},
   "outputs": [],
   "source": [
    "check_query(q5, sql_q5, sort_by=['v1', 'v2', 'v3'])"
   ]
  },
  {
   "cell_type": "code",
   "execution_count": 21,
   "id": "59578372-c906-422b-b755-fcc4061ada61",
   "metadata": {},
   "outputs": [
    {
     "name": "stdout",
     "output_type": "stream",
     "text": [
      "CPU times: user 3.13 s, sys: 1.19 s, total: 4.32 s\n",
      "Wall time: 38.2 s\n"
     ]
    }
   ],
   "source": [
    "%%time\n",
    "ddf_q7 = ddf[[\"id3\", \"v1\", \"v2\"]]\n",
    "q7 = (\n",
    "        ddf_q7.groupby(\"id3\", dropna=False, observed=True)\n",
    "        .agg({\"v1\": \"max\", \"v2\": \"min\"})\n",
    "        .assign(range_v1_v2=lambda x: x[\"v1\"] - x[\"v2\"])[[\"range_v1_v2\"]]\n",
    "        .compute()\n",
    "    )"
   ]
  },
  {
   "cell_type": "code",
   "execution_count": 22,
   "id": "6404de80-79c2-44a5-aa73-84a003f48cde",
   "metadata": {},
   "outputs": [
    {
     "name": "stdout",
     "output_type": "stream",
     "text": [
      "CPU times: user 3.45 s, sys: 1.45 s, total: 4.9 s\n",
      "Wall time: 46.4 s\n"
     ]
    }
   ],
   "source": [
    "%%time \n",
    "sql_q7 = c.sql(\"\"\"SELECT id3, max(v1)-min(v2) AS range_v1_v2 \n",
    "                  FROM h2oData \n",
    "                  GROUP BY \n",
    "                  id3\"\"\").compute()"
   ]
  },
  {
   "cell_type": "code",
   "execution_count": 23,
   "id": "f615f235-6494-4b02-9460-0451ba0d6435",
   "metadata": {},
   "outputs": [],
   "source": [
    "check_query(q7, sql_q7, sort_by=['id3', 'range_v1_v2'])"
   ]
  },
  {
   "cell_type": "code",
   "execution_count": 24,
   "id": "b5c49580-bc49-4140-93ba-6aba775ea95c",
   "metadata": {},
   "outputs": [
    {
     "name": "stdout",
     "output_type": "stream",
     "text": [
      "CPU times: user 13.9 s, sys: 4.19 s, total: 18.1 s\n",
      "Wall time: 3min 3s\n"
     ]
    }
   ],
   "source": [
    "%%time\n",
    "ddf_q8 = ddf[[\"id6\", \"v1\", \"v2\", \"v3\"]]\n",
    "q8 = (\n",
    "        ddf_q8[~ddf_q8[\"v3\"].isna()][[\"id6\", \"v3\"]]\n",
    "        .groupby(\"id6\", dropna=False, observed=True)\n",
    "        .apply(\n",
    "            lambda x: x.nlargest(2, columns=\"v3\"),\n",
    "            meta={\"id6\": \"Int64\", \"v3\": \"float64\"},\n",
    "        )\n",
    "        .compute()\n",
    "    )"
   ]
  },
  {
   "cell_type": "code",
   "execution_count": 25,
   "id": "74dc49de-b01b-4c84-8ea4-32b80f15f2fb",
   "metadata": {},
   "outputs": [
    {
     "name": "stdout",
     "output_type": "stream",
     "text": [
      "CPU times: user 15.3 s, sys: 5.39 s, total: 20.7 s\n",
      "Wall time: 3min 27s\n"
     ]
    }
   ],
   "source": [
    "%%time \n",
    "sql_q8 = c.sql(\"\"\"SELECT id6, v3 AS largest2_v3 \n",
    "               FROM \n",
    "               (SELECT id6, v3, row_number()\n",
    "               OVER \n",
    "               (PARTITION BY id6 ORDER BY v3 DESC) AS order_v3 \n",
    "               FROM h2oData \n",
    "               WHERE v3 IS NOT NULL) \n",
    "               sub_query WHERE order_v3 <= 2\"\"\").compute()\n",
    "q8 = q8.rename(columns={'v3': 'largest2_v3'})"
   ]
  },
  {
   "cell_type": "code",
   "execution_count": 45,
   "id": "e4c26641-56dc-4d26-bed7-cce23301aaba",
   "metadata": {},
   "outputs": [],
   "source": [
    "check_query(q8, sql_q8, sort_by=['id6', 'largest2_v3'])"
   ]
  },
  {
   "cell_type": "code",
   "execution_count": null,
   "id": "89a7f8d6-8c47-4646-827a-4e012b357e4c",
   "metadata": {},
   "outputs": [],
   "source": []
  }
 ],
 "metadata": {
  "kernelspec": {
   "display_name": "Python [conda env:dask-sql]",
   "language": "python",
   "name": "conda-env-dask-sql-py"
  },
  "language_info": {
   "codemirror_mode": {
    "name": "ipython",
    "version": 3
   },
   "file_extension": ".py",
   "mimetype": "text/x-python",
   "name": "python",
   "nbconvert_exporter": "python",
   "pygments_lexer": "ipython3",
   "version": "3.8.13"
  }
 },
 "nbformat": 4,
 "nbformat_minor": 5
}
